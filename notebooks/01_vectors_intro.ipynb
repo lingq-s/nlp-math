{
 "cells": [
  {
   "cell_type": "markdown",
   "id": "7e59e20c",
   "metadata": {},
   "source": [
    "A **vector** is an ordered list of numbers that represents a point or direction in space.\n",
    "\n",
    "- In math, a vector can be written as:  \n",
    "  `v = [x, y]` (in 2D), or `[x, y, z]` (in 3D), or more generally `[x₁, x₂, ..., xₙ]` in n-dimensions.\n",
    "\n",
    "- In NLP, we use vectors to represent **words**, **sentences**, and even **documents**!\n"
   ]
  },
  {
   "cell_type": "code",
   "execution_count": null,
   "id": "d2baaa3b",
   "metadata": {},
   "outputs": [],
   "source": [
    "import numpy as np\n",
    "import matplotlib.pyplot as plt\n",
    "\n",
    "# Define some example 2D vectors\n",
    "v1 = np.array([2, 1])\n",
    "v2 = np.array([1, 3])\n",
    "\n",
    "# Simple plot\n",
    "def plot_vectors(vecs, colors=['r', 'b']):\n",
    "    plt.figure(figsize=(5,5))\n",
    "    plt.axhline(0, color='gray', lw=0.5)\n",
    "    plt.axvline(0, color='gray', lw=0.5)\n",
    "    for i in range(len(vecs)):\n",
    "        plt.quiver(0, 0, vecs[i][0], vecs[i][1], angles='xy', scale_units='xy', scale=1, color=colors[i])\n",
    "    plt.xlim(-1, 4)\n",
    "    plt.ylim(-1, 4)\n",
    "    plt.grid()\n",
    "    plt.show()\n",
    "\n",
    "plot_vectors([v1, v2])\n"
   ]
  },
  {
   "cell_type": "code",
   "execution_count": null,
   "id": "add97ad3",
   "metadata": {},
   "outputs": [],
   "source": [
    "v3 = v1 + v2\n",
    "print(\"v1 + v2 =\", v3)\n",
    "\n",
    "scaled = 2 * v1\n",
    "print(\"2 * v1 =\", scaled)\n"
   ]
  },
  {
   "cell_type": "code",
   "execution_count": null,
   "id": "675a7774",
   "metadata": {},
   "outputs": [],
   "source": [
    "# Visualizing v1, v2, and v1+v2\n",
    "plot_vectors([v1, v2, v3], colors=['r', 'b', 'g'])  # Green vector shows result of addition\n"
   ]
  }
 ],
 "metadata": {
  "kernelspec": {
   "display_name": "Python 3",
   "language": "python",
   "name": "python3"
  },
  "language_info": {
   "codemirror_mode": {
    "name": "ipython",
    "version": 3
   },
   "file_extension": ".py",
   "mimetype": "text/x-python",
   "name": "python",
   "nbconvert_exporter": "python",
   "pygments_lexer": "ipython3",
   "version": "3.12.3"
  }
 },
 "nbformat": 4,
 "nbformat_minor": 5
}
