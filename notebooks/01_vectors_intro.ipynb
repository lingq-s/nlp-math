{
 "cells": [
  {
   "cell_type": "markdown",
   "id": "7e59e20c",
   "metadata": {},
   "source": [
    "# Vectors: Mathematical Foundations and NLP Applications\n",
    "\n",
    "## 1. Mathematical Definition of Vectors\n",
    "\n",
    "A vector is an ordered list of numbers that represents a point or direction in space.\n",
    "\n",
    "**Mathematical Notation**:\n",
    "```math\n",
    "\\vec{v} = \\begin{bmatrix} v_1 \\\\ v_2 \\\\ \\vdots \\\\ v_n \\end{bmatrix} \\in \\mathbb{R}^n\n",
    "```\n",
    "\n",
    "**Key Properties**:\n",
    "- In 2D: `v = [x, y]`\n",
    "- In 3D: `v = [x, y, z]` \n",
    "- In n-dimensions: `[x₁, x₂, ..., xₙ]`\n",
    "\n",
    "**Key Points**:\n",
    "- Vectors are **ordered lists of numbers** representing magnitude and direction.\n",
    "- In NLP, words/sentences are mapped to vectors (e.g., Word2Vec, GloVe)."
   ]
  },
  {
   "cell_type": "markdown",
   "id": "d1456491",
   "metadata": {},
   "source": [
    "## 2. Vector Representation in Python\n",
    "\n",
    "### 2.1 Basic Implementation"
   ]
  },
  {
   "cell_type": "code",
   "execution_count": 1,
   "id": "d2baaa3b",
   "metadata": {},
   "outputs": [],
   "source": [
    "import numpy as np\n",
    "\n",
    "# Row vectors\n",
    "v1 = np.array([2, 1])  \n",
    "v2 = np.array([1, 3])\n",
    "\n",
    "# Column vector\n",
    "vector_col = np.array([[4], [5], [6]]) "
   ]
  },
  {
   "cell_type": "markdown",
   "id": "4eca802e",
   "metadata": {},
   "source": [
    "### 2.2 Visualization"
   ]
  },
  {
   "cell_type": "code",
   "execution_count": 2,
   "id": "15dbcadb",
   "metadata": {},
   "outputs": [
    {
     "data": {
      "image/png": "[encoded data removed]",
      "text/plain": [
       "<Figure size 500x500 with 1 Axes>"
      ]
     },
     "metadata": {},
     "output_type": "display_data"
    }
   ],
   "source": [
    "import matplotlib.pyplot as plt\n",
    "\n",
    "def plot_vectors(vecs, colors=['r', 'b']):\n",
    "    plt.figure(figsize=(5,5))\n",
    "    plt.axhline(0, color='gray', lw=0.5)\n",
    "    plt.axvline(0, color='gray', lw=0.5)\n",
    "    for i in range(len(vecs)):\n",
    "        plt.quiver(0, 0, vecs[i][0], vecs[i][1], \n",
    "                  angles='xy', scale_units='xy', scale=1, \n",
    "                  color=colors[i])\n",
    "    plt.xlim(-1, 4)\n",
    "    plt.ylim(-1, 4)\n",
    "    plt.grid()\n",
    "    plt.show()\n",
    "\n",
    "plot_vectors([v1, v2])"
   ]
  },
  {
   "cell_type": "markdown",
   "id": "c906e190",
   "metadata": {},
   "source": [
    "## 3. Vector Operations\n",
    "\n",
    "### 3.1 Addition and Scaling"
   ]
  },
  {
   "cell_type": "code",
   "execution_count": 3,
   "id": "add97ad3",
   "metadata": {},
   "outputs": [],
   "source": [
    "# Vector addition\n",
    "v3 = v1 + v2  # Results in [3, 4]\n",
    "\n",
    "# Scalar multiplication\n",
    "scaled = 2 * v1  # Results in [4, 2]"
   ]
  },
  {
   "cell_type": "markdown",
   "id": "402f6aa8",
   "metadata": {},
   "source": [
    "### 3.2 Norms and Normalization"
   ]
  },
  {
   "cell_type": "code",
   "execution_count": 4,
   "id": "03c9b9e7",
   "metadata": {},
   "outputs": [
    {
     "name": "stdout",
     "output_type": "stream",
     "text": [
      "2.23606797749979\n",
      "3.0\n"
     ]
    }
   ],
   "source": [
    "def vector_norm(v, order=2):\n",
    "    return np.linalg.norm(v, ord=order)\n",
    "\n",
    "# Euclidean norm (L2)\n",
    "print(vector_norm(v1))  # sqrt(2² + 1²) ≈ 2.236\n",
    "\n",
    "# Manhattan norm (L1)\n",
    "print(vector_norm(v1, 1))  # 2 + 1 = 3\n",
    "\n",
    "# Normalization to unit vector\n",
    "def normalize(v):\n",
    "    norm = np.linalg.norm(v)\n",
    "    return v / norm if norm != 0 else v"
   ]
  },
  {
   "cell_type": "markdown",
   "id": "25f8e35c",
   "metadata": {},
   "source": [
    "## 4. NLP Applications\n",
    "\n",
    "### 4.1 Key Concepts\n",
    "- Words/sentences mapped to vectors (Word2Vec, GloVe, FastText)\n",
    "- Enables mathematical operations on language\n",
    "- Applications: semantic search, document clustering\n",
    "\n",
    "### 4.2 Important Operations\n",
    "\n",
    "**Dot Product (Semantic Similarity)**:\n",
    "```math\n",
    "\\vec{a} \\cdot \\vec{b} = \\sum_{i=1}^n a_i b_i\n",
    "```\n",
    "\n",
    "**Cosine Similarity (Standard in NLP)**:"
   ]
  },
  {
   "cell_type": "code",
   "execution_count": 5,
   "id": "8498f5d2",
   "metadata": {},
   "outputs": [
    {
     "name": "stdout",
     "output_type": "stream",
     "text": [
      "Cosine similarity: 0.7071\n"
     ]
    }
   ],
   "source": [
    "from numpy.linalg import norm\n",
    "\n",
    "cos_sim = np.dot(v1, v2) / (norm(v1) * norm(v2))\n",
    "print(f\"Cosine similarity: {cos_sim:.4f}\")"
   ]
  },
  {
   "cell_type": "markdown",
   "id": "9b37c9f1",
   "metadata": {},
   "source": [
    "### 4.3 Practical Example"
   ]
  },
  {
   "cell_type": "code",
   "execution_count": 6,
   "id": "675a7774",
   "metadata": {},
   "outputs": [],
   "source": [
    "# Example using Gensim (uncomment to run)\n",
    "# from gensim.models import KeyedVectors\n",
    "# model = KeyedVectors.load_word2vec_format('GoogleNews-vectors-negative300.bin', binary=True)\n",
    "# print(model.similarity('king', 'queen'))"
   ]
  },
  {
   "cell_type": "markdown",
   "id": "b4f2dc47",
   "metadata": {},
   "source": [
    "## 5. Summary Table\n",
    "\n",
    "| Concept          | Mathematical Form       | Python Implementation      | NLP Application       |\n",
    "|------------------|-------------------------|---------------------------|-----------------------|\n",
    "| Vector           | [x₁, x₂, ..., xₙ]       | `np.array([1,2,3])`       | Word embeddings       |\n",
    "| Addition         | v1 + v2                 | `v1 + v2`                 | Document combination  |\n",
    "| Dot Product      | Σaᵢbᵢ                   | `np.dot(v1, v2)`          | Semantic similarity   |\n",
    "| Cosine Similarity| (v1·v2)/(‖v1‖‖v2‖)      | `norm(v1)*norm(v2)`       | Document retrieval    |\n"
   ]
  },
  {
   "cell_type": "markdown",
   "id": "7d01e750",
   "metadata": {},
   "source": [
    "## 6. Next Steps\n",
    "- Explore sentence vectors with TF-IDF\n",
    "- Experiment with BERT for context-aware embeddings\n",
    "- Practice with real-world NLP datasets\n"
   ]
  },
  {
   "cell_type": "markdown",
   "id": "b4e1cabe",
   "metadata": {},
   "source": [
    "## References\n",
    "- Word2Vec Original Paper (Mikolov et al., 2013)\n",
    "- NumPy Documentation\n",
    "- Gensim Library Documentation"
   ]
  }
 ],
 "metadata": {
  "kernelspec": {
   "display_name": "nlp-math",
   "language": "python",
   "name": "python3"
  },
  "language_info": {
   "codemirror_mode": {
    "name": "ipython",
    "version": 3
   },
   "file_extension": ".py",
   "mimetype": "text/x-python",
   "name": "python",
   "nbconvert_exporter": "python",
   "pygments_lexer": "ipython3",
   "version": "3.9.21"
  }
 },
 "nbformat": 4,
 "nbformat_minor": 5
}
